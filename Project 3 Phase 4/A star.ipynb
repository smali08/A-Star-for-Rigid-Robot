{
 "cells": [
  {
   "cell_type": "code",
   "execution_count": 1,
   "metadata": {},
   "outputs": [
    {
     "name": "stdout",
     "output_type": "stream",
     "text": [
      "Entered GenerateMap\n",
      "Exitting GenerateMap\n"
     ]
    },
    {
     "data": {
      "text/plain": [
       "<Figure size 640x480 with 1 Axes>"
      ]
     },
     "metadata": {},
     "output_type": "display_data"
    },
    {
     "data": {
      "text/plain": [
       "<Figure size 640x480 with 1 Axes>"
      ]
     },
     "metadata": {},
     "output_type": "display_data"
    },
    {
     "data": {
      "text/plain": [
       "<Figure size 640x480 with 1 Axes>"
      ]
     },
     "metadata": {},
     "output_type": "display_data"
    },
    {
     "data": {
      "text/plain": [
       "<Figure size 640x480 with 1 Axes>"
      ]
     },
     "metadata": {},
     "output_type": "display_data"
    },
    {
     "data": {
      "text/plain": [
       "<Figure size 640x480 with 1 Axes>"
      ]
     },
     "metadata": {},
     "output_type": "display_data"
    },
    {
     "data": {
      "text/plain": [
       "<Figure size 640x480 with 1 Axes>"
      ]
     },
     "metadata": {},
     "output_type": "display_data"
    },
    {
     "data": {
      "text/plain": [
       "<Figure size 640x480 with 1 Axes>"
      ]
     },
     "metadata": {},
     "output_type": "display_data"
    },
    {
     "data": {
      "text/plain": [
       "<Figure size 640x480 with 1 Axes>"
      ]
     },
     "metadata": {},
     "output_type": "display_data"
    },
    {
     "data": {
      "text/plain": [
       "<Figure size 640x480 with 1 Axes>"
      ]
     },
     "metadata": {},
     "output_type": "display_data"
    },
    {
     "data": {
      "text/plain": [
       "<Figure size 640x480 with 1 Axes>"
      ]
     },
     "metadata": {},
     "output_type": "display_data"
    },
    {
     "data": {
      "text/plain": [
       "<Figure size 640x480 with 1 Axes>"
      ]
     },
     "metadata": {},
     "output_type": "display_data"
    },
    {
     "data": {
      "text/plain": [
       "<Figure size 640x480 with 1 Axes>"
      ]
     },
     "metadata": {},
     "output_type": "display_data"
    },
    {
     "data": {
      "text/plain": [
       "<Figure size 640x480 with 1 Axes>"
      ]
     },
     "metadata": {},
     "output_type": "display_data"
    },
    {
     "data": {
      "text/plain": [
       "<Figure size 640x480 with 1 Axes>"
      ]
     },
     "metadata": {},
     "output_type": "display_data"
    },
    {
     "data": {
      "text/plain": [
       "<Figure size 640x480 with 1 Axes>"
      ]
     },
     "metadata": {},
     "output_type": "display_data"
    },
    {
     "data": {
      "text/plain": [
       "<Figure size 640x480 with 1 Axes>"
      ]
     },
     "metadata": {},
     "output_type": "display_data"
    },
    {
     "data": {
      "text/plain": [
       "<Figure size 640x480 with 1 Axes>"
      ]
     },
     "metadata": {},
     "output_type": "display_data"
    },
    {
     "data": {
      "text/plain": [
       "<Figure size 640x480 with 1 Axes>"
      ]
     },
     "metadata": {},
     "output_type": "display_data"
    },
    {
     "data": {
      "text/plain": [
       "<Figure size 640x480 with 1 Axes>"
      ]
     },
     "metadata": {},
     "output_type": "display_data"
    },
    {
     "data": {
      "text/plain": [
       "<Figure size 640x480 with 1 Axes>"
      ]
     },
     "metadata": {},
     "output_type": "display_data"
    },
    {
     "data": {
      "text/plain": [
       "<Figure size 640x480 with 1 Axes>"
      ]
     },
     "metadata": {},
     "output_type": "display_data"
    },
    {
     "data": {
      "text/plain": [
       "<Figure size 640x480 with 1 Axes>"
      ]
     },
     "metadata": {},
     "output_type": "display_data"
    },
    {
     "data": {
      "text/plain": [
       "<Figure size 640x480 with 1 Axes>"
      ]
     },
     "metadata": {},
     "output_type": "display_data"
    },
    {
     "data": {
      "text/plain": [
       "<Figure size 640x480 with 1 Axes>"
      ]
     },
     "metadata": {},
     "output_type": "display_data"
    },
    {
     "data": {
      "text/plain": [
       "<Figure size 640x480 with 1 Axes>"
      ]
     },
     "metadata": {},
     "output_type": "display_data"
    },
    {
     "data": {
      "text/plain": [
       "<Figure size 640x480 with 1 Axes>"
      ]
     },
     "metadata": {},
     "output_type": "display_data"
    },
    {
     "data": {
      "text/plain": [
       "<Figure size 640x480 with 1 Axes>"
      ]
     },
     "metadata": {},
     "output_type": "display_data"
    },
    {
     "data": {
      "text/plain": [
       "<Figure size 640x480 with 1 Axes>"
      ]
     },
     "metadata": {},
     "output_type": "display_data"
    },
    {
     "data": {
      "text/plain": [
       "<Figure size 640x480 with 1 Axes>"
      ]
     },
     "metadata": {},
     "output_type": "display_data"
    },
    {
     "data": {
      "text/plain": [
       "<Figure size 640x480 with 1 Axes>"
      ]
     },
     "metadata": {},
     "output_type": "display_data"
    },
    {
     "data": {
      "text/plain": [
       "<Figure size 640x480 with 1 Axes>"
      ]
     },
     "metadata": {},
     "output_type": "display_data"
    },
    {
     "data": {
      "text/plain": [
       "<Figure size 640x480 with 1 Axes>"
      ]
     },
     "metadata": {},
     "output_type": "display_data"
    },
    {
     "data": {
      "text/plain": [
       "<Figure size 640x480 with 1 Axes>"
      ]
     },
     "metadata": {},
     "output_type": "display_data"
    },
    {
     "data": {
      "text/plain": [
       "<Figure size 640x480 with 1 Axes>"
      ]
     },
     "metadata": {},
     "output_type": "display_data"
    },
    {
     "data": {
      "text/plain": [
       "<Figure size 640x480 with 1 Axes>"
      ]
     },
     "metadata": {},
     "output_type": "display_data"
    },
    {
     "data": {
      "text/plain": [
       "<Figure size 640x480 with 1 Axes>"
      ]
     },
     "metadata": {},
     "output_type": "display_data"
    },
    {
     "data": {
      "text/plain": [
       "<Figure size 640x480 with 1 Axes>"
      ]
     },
     "metadata": {},
     "output_type": "display_data"
    },
    {
     "data": {
      "text/plain": [
       "<Figure size 640x480 with 1 Axes>"
      ]
     },
     "metadata": {},
     "output_type": "display_data"
    },
    {
     "data": {
      "text/plain": [
       "<Figure size 640x480 with 1 Axes>"
      ]
     },
     "metadata": {},
     "output_type": "display_data"
    },
    {
     "data": {
      "text/plain": [
       "<Figure size 640x480 with 1 Axes>"
      ]
     },
     "metadata": {},
     "output_type": "display_data"
    },
    {
     "data": {
      "text/plain": [
       "<Figure size 640x480 with 1 Axes>"
      ]
     },
     "metadata": {},
     "output_type": "display_data"
    },
    {
     "data": {
      "text/plain": [
       "<Figure size 640x480 with 1 Axes>"
      ]
     },
     "metadata": {},
     "output_type": "display_data"
    },
    {
     "data": {
      "text/plain": [
       "<Figure size 640x480 with 1 Axes>"
      ]
     },
     "metadata": {},
     "output_type": "display_data"
    },
    {
     "data": {
      "text/plain": [
       "<Figure size 640x480 with 1 Axes>"
      ]
     },
     "metadata": {},
     "output_type": "display_data"
    },
    {
     "data": {
      "text/plain": [
       "<Figure size 640x480 with 1 Axes>"
      ]
     },
     "metadata": {},
     "output_type": "display_data"
    },
    {
     "data": {
      "text/plain": [
       "<Figure size 640x480 with 1 Axes>"
      ]
     },
     "metadata": {},
     "output_type": "display_data"
    },
    {
     "data": {
      "text/plain": [
       "<Figure size 640x480 with 1 Axes>"
      ]
     },
     "metadata": {},
     "output_type": "display_data"
    },
    {
     "data": {
      "text/plain": [
       "<Figure size 640x480 with 1 Axes>"
      ]
     },
     "metadata": {},
     "output_type": "display_data"
    },
    {
     "data": {
      "text/plain": [
       "<Figure size 640x480 with 1 Axes>"
      ]
     },
     "metadata": {},
     "output_type": "display_data"
    },
    {
     "data": {
      "text/plain": [
       "<Figure size 640x480 with 1 Axes>"
      ]
     },
     "metadata": {},
     "output_type": "display_data"
    },
    {
     "data": {
      "text/plain": [
       "<Figure size 640x480 with 1 Axes>"
      ]
     },
     "metadata": {},
     "output_type": "display_data"
    },
    {
     "data": {
      "text/plain": [
       "<Figure size 640x480 with 1 Axes>"
      ]
     },
     "metadata": {},
     "output_type": "display_data"
    },
    {
     "data": {
      "text/plain": [
       "<Figure size 640x480 with 1 Axes>"
      ]
     },
     "metadata": {},
     "output_type": "display_data"
    },
    {
     "data": {
      "text/plain": [
       "<Figure size 640x480 with 1 Axes>"
      ]
     },
     "metadata": {},
     "output_type": "display_data"
    },
    {
     "data": {
      "text/plain": [
       "<Figure size 640x480 with 1 Axes>"
      ]
     },
     "metadata": {},
     "output_type": "display_data"
    },
    {
     "data": {
      "text/plain": [
       "<Figure size 640x480 with 1 Axes>"
      ]
     },
     "metadata": {},
     "output_type": "display_data"
    },
    {
     "data": {
      "text/plain": [
       "<Figure size 640x480 with 1 Axes>"
      ]
     },
     "metadata": {},
     "output_type": "display_data"
    },
    {
     "data": {
      "text/plain": [
       "<Figure size 640x480 with 1 Axes>"
      ]
     },
     "metadata": {},
     "output_type": "display_data"
    },
    {
     "data": {
      "text/plain": [
       "<Figure size 640x480 with 1 Axes>"
      ]
     },
     "metadata": {},
     "output_type": "display_data"
    },
    {
     "data": {
      "text/plain": [
       "<Figure size 640x480 with 1 Axes>"
      ]
     },
     "metadata": {},
     "output_type": "display_data"
    },
    {
     "data": {
      "text/plain": [
       "<Figure size 640x480 with 1 Axes>"
      ]
     },
     "metadata": {},
     "output_type": "display_data"
    },
    {
     "data": {
      "text/plain": [
       "<Figure size 640x480 with 1 Axes>"
      ]
     },
     "metadata": {},
     "output_type": "display_data"
    },
    {
     "data": {
      "text/plain": [
       "<Figure size 640x480 with 1 Axes>"
      ]
     },
     "metadata": {},
     "output_type": "display_data"
    },
    {
     "data": {
      "text/plain": [
       "<Figure size 640x480 with 1 Axes>"
      ]
     },
     "metadata": {},
     "output_type": "display_data"
    },
    {
     "data": {
      "text/plain": [
       "<Figure size 640x480 with 1 Axes>"
      ]
     },
     "metadata": {},
     "output_type": "display_data"
    },
    {
     "data": {
      "text/plain": [
       "<Figure size 640x480 with 1 Axes>"
      ]
     },
     "metadata": {},
     "output_type": "display_data"
    },
    {
     "data": {
      "text/plain": [
       "<Figure size 640x480 with 1 Axes>"
      ]
     },
     "metadata": {},
     "output_type": "display_data"
    },
    {
     "data": {
      "text/plain": [
       "<Figure size 640x480 with 1 Axes>"
      ]
     },
     "metadata": {},
     "output_type": "display_data"
    },
    {
     "data": {
      "text/plain": [
       "<Figure size 640x480 with 1 Axes>"
      ]
     },
     "metadata": {},
     "output_type": "display_data"
    },
    {
     "data": {
      "text/plain": [
       "<Figure size 640x480 with 1 Axes>"
      ]
     },
     "metadata": {},
     "output_type": "display_data"
    },
    {
     "data": {
      "text/plain": [
       "<Figure size 640x480 with 1 Axes>"
      ]
     },
     "metadata": {},
     "output_type": "display_data"
    },
    {
     "data": {
      "text/plain": [
       "<Figure size 640x480 with 1 Axes>"
      ]
     },
     "metadata": {},
     "output_type": "display_data"
    },
    {
     "data": {
      "text/plain": [
       "<Figure size 640x480 with 1 Axes>"
      ]
     },
     "metadata": {},
     "output_type": "display_data"
    },
    {
     "data": {
      "text/plain": [
       "<Figure size 640x480 with 1 Axes>"
      ]
     },
     "metadata": {},
     "output_type": "display_data"
    },
    {
     "data": {
      "text/plain": [
       "<Figure size 640x480 with 1 Axes>"
      ]
     },
     "metadata": {},
     "output_type": "display_data"
    },
    {
     "data": {
      "text/plain": [
       "<Figure size 640x480 with 1 Axes>"
      ]
     },
     "metadata": {},
     "output_type": "display_data"
    },
    {
     "data": {
      "text/plain": [
       "<Figure size 640x480 with 1 Axes>"
      ]
     },
     "metadata": {},
     "output_type": "display_data"
    },
    {
     "data": {
      "text/plain": [
       "<Figure size 640x480 with 1 Axes>"
      ]
     },
     "metadata": {},
     "output_type": "display_data"
    },
    {
     "data": {
      "text/plain": [
       "<Figure size 640x480 with 1 Axes>"
      ]
     },
     "metadata": {},
     "output_type": "display_data"
    },
    {
     "data": {
      "text/plain": [
       "<Figure size 640x480 with 1 Axes>"
      ]
     },
     "metadata": {},
     "output_type": "display_data"
    },
    {
     "data": {
      "text/plain": [
       "<Figure size 640x480 with 1 Axes>"
      ]
     },
     "metadata": {},
     "output_type": "display_data"
    },
    {
     "data": {
      "text/plain": [
       "<Figure size 640x480 with 1 Axes>"
      ]
     },
     "metadata": {},
     "output_type": "display_data"
    },
    {
     "data": {
      "text/plain": [
       "<Figure size 640x480 with 1 Axes>"
      ]
     },
     "metadata": {},
     "output_type": "display_data"
    },
    {
     "data": {
      "text/plain": [
       "<Figure size 640x480 with 1 Axes>"
      ]
     },
     "metadata": {},
     "output_type": "display_data"
    },
    {
     "data": {
      "text/plain": [
       "<Figure size 640x480 with 1 Axes>"
      ]
     },
     "metadata": {},
     "output_type": "display_data"
    },
    {
     "data": {
      "text/plain": [
       "<Figure size 640x480 with 1 Axes>"
      ]
     },
     "metadata": {},
     "output_type": "display_data"
    },
    {
     "data": {
      "text/plain": [
       "<Figure size 640x480 with 1 Axes>"
      ]
     },
     "metadata": {},
     "output_type": "display_data"
    },
    {
     "data": {
      "text/plain": [
       "<Figure size 640x480 with 1 Axes>"
      ]
     },
     "metadata": {},
     "output_type": "display_data"
    },
    {
     "data": {
      "text/plain": [
       "<Figure size 640x480 with 1 Axes>"
      ]
     },
     "metadata": {},
     "output_type": "display_data"
    },
    {
     "data": {
      "text/plain": [
       "<Figure size 640x480 with 1 Axes>"
      ]
     },
     "metadata": {},
     "output_type": "display_data"
    },
    {
     "data": {
      "text/plain": [
       "<Figure size 640x480 with 1 Axes>"
      ]
     },
     "metadata": {},
     "output_type": "display_data"
    },
    {
     "data": {
      "text/plain": [
       "<Figure size 640x480 with 1 Axes>"
      ]
     },
     "metadata": {},
     "output_type": "display_data"
    },
    {
     "data": {
      "text/plain": [
       "<Figure size 640x480 with 1 Axes>"
      ]
     },
     "metadata": {},
     "output_type": "display_data"
    },
    {
     "data": {
      "text/plain": [
       "<Figure size 640x480 with 1 Axes>"
      ]
     },
     "metadata": {},
     "output_type": "display_data"
    },
    {
     "data": {
      "text/plain": [
       "<Figure size 640x480 with 1 Axes>"
      ]
     },
     "metadata": {},
     "output_type": "display_data"
    },
    {
     "data": {
      "text/plain": [
       "<Figure size 640x480 with 1 Axes>"
      ]
     },
     "metadata": {},
     "output_type": "display_data"
    },
    {
     "data": {
      "text/plain": [
       "<Figure size 640x480 with 1 Axes>"
      ]
     },
     "metadata": {},
     "output_type": "display_data"
    },
    {
     "data": {
      "text/plain": [
       "<Figure size 640x480 with 1 Axes>"
      ]
     },
     "metadata": {},
     "output_type": "display_data"
    },
    {
     "data": {
      "text/plain": [
       "<Figure size 640x480 with 1 Axes>"
      ]
     },
     "metadata": {},
     "output_type": "display_data"
    },
    {
     "name": "stdout",
     "output_type": "stream",
     "text": [
      "Deleting\n"
     ]
    },
    {
     "data": {
      "text/plain": [
       "<Figure size 640x480 with 1 Axes>"
      ]
     },
     "metadata": {},
     "output_type": "display_data"
    },
    {
     "data": {
      "text/plain": [
       "<Figure size 640x480 with 1 Axes>"
      ]
     },
     "metadata": {},
     "output_type": "display_data"
    },
    {
     "name": "stdout",
     "output_type": "stream",
     "text": [
      "Goal [3392.6524195161096, 3445.327615130529, 6.364335809953126e-15, 11977.919272994997, 11932.000000000005, 6017, [10.466666666666667, 0]]\n",
      "Path [[3392.6524195161096, 3445.327615130529, 6.364335809953126e-15, 11977.919272994997, 11932.000000000005, 6017, [10.466666666666667, 0]]] [3392.6524195161096, 3445.327615130529, 6.364335809953126e-15, 11977.919272994997, 11932.000000000005, 6017, [10.466666666666667, 0]]\n",
      "[3282.0503335294543, 3212.4299923543103, 107.71653543307085, 11855.273084079992, 11633.700000000004, 5744, [5.233333333333333, 10.466666666666667]]\n",
      "[3172.937351388644, 2794.634597588912, 53.85826771653544, 11832.798309742395, 11186.250000000004, 5626, [5.233333333333333, 0]]\n",
      "[3163.2215339179083, 2651.0266974747806, 107.71653543307085, 11822.60942062825, 11037.100000000004, 5553, [0, 5.233333333333333]]\n",
      "[3126.8505398709717, 2511.7615658863147, 53.85826771653544, 11817.23905266635, 10887.950000000004, 5337, [10.466666666666667, 10.466666666666667]]\n",
      "[2774.755426487119, 2030.1386935772725, 53.85826771653544, 11797.155689835676, 10291.350000000004, 4474, [5.233333333333333, 10.466666666666667]]\n",
      "[2373.0826710682113, 1871.6532610826168, 1.5910839524882818e-14, 11685.204688208829, 9843.900000000003, 4384, [5.233333333333333, 0]]\n",
      "[2251.4169969260493, 1794.7436399689461, 53.85826771653544, 11668.60179189587, 9694.750000000004, 3931, [5.233333333333333, 10.466666666666667]]\n",
      "[1849.7442415071414, 1636.2582074742904, 1.5910839524882818e-14, 11595.507407245383, 9247.300000000003, 2790, [10.466666666666667, 10.466666666666667]]\n",
      "[1253.1442415071417, 1636.2582074742904, 1.5910839524882818e-14, 11429.148264495088, 8650.700000000003, 2020, [10.466666666666667, 10.466666666666667]]\n",
      "[656.544241507142, 1636.2582074742904, 1.5910839524882818e-14, 11315.592696528607, 8054.100000000002, 1746, [5.233333333333333, 5.233333333333333]]\n",
      "[358.24424150714214, 1636.2582074742904, 1.5910839524882818e-14, 11271.91478837456, 7755.800000000002, 1715, [5.233333333333333, 0]]\n",
      "[236.57856736498027, 1559.3485863606197, 53.85826771653544, 11266.599833944076, 7606.650000000002, 1612, [5.233333333333333, 10.466666666666667]]\n",
      "[-165.0941880539276, 1400.863153865964, 1.5910839524882818e-14, 11246.55179538863, 7159.200000000003, 1529, [10.466666666666667, 5.233333333333333]]\n",
      "[-530.0912104804132, 1170.134290524952, 53.85826771653544, 11230.369037381673, 6711.750000000003, 1493, [0, 5.233333333333333]]\n",
      "[-663.9821289533826, 1117.3058130267334, 1.5910839524882818e-14, 11223.784773820284, 6562.600000000003, 1471, [5.233333333333333, 0]]\n",
      "[-785.6478030955445, 1040.3961919130627, 53.85826771653544, 11218.382638726267, 6413.450000000003, 1270, [10.466666666666667, 10.466666666666667]]\n",
      "[-1137.742916479396, 558.7733196040194, 53.85826771653544, 11170.697198552916, 5816.850000000002, 986, [5.233333333333333, 0]]\n",
      "[-1147.4587339501318, 415.1654194898877, 107.71653543307085, 11107.242114000805, 5667.700000000003, 768, [0, 5.233333333333333]]\n",
      "[-1183.8297279970686, 275.9002879014217, 53.85826771653544, 11065.755962140232, 5518.550000000003, 591, [10.466666666666667, 10.466666666666667]]\n",
      "[-1535.92484138092, -205.7225844076213, 53.85826771653544, 11034.6081284633, 4921.950000000003, 449, [10.466666666666667, 10.466666666666667]]\n",
      "[-1888.0199547647715, -687.3454567166643, 53.85826771653544, 11008.878104566691, 4325.350000000002, 342, [10.466666666666667, 10.466666666666667]]\n",
      "[-2240.1150681486233, -1168.9683290257076, 53.85826771653544, 10987.287702154417, 3728.7500000000014, 279, [10.466666666666667, 10.466666666666667]]\n",
      "[-2592.210181532476, -1650.5912013347508, 53.85826771653544, 10968.925761922852, 3132.1500000000005, 243, [10.466666666666667, 10.466666666666667]]\n",
      "[-2944.3052949163284, -2132.214073643794, 53.85826771653544, 10953.126981039486, 2535.5499999999997, 217, [10.466666666666667, 10.466666666666667]]\n",
      "[-3296.400408300181, -2613.8369459528362, 53.85826771653544, 10939.39516903415, 1938.9499999999998, 27, [10.466666666666667, 5.233333333333333]]\n",
      "[-3325.5478607123882, -3044.6606462952313, 107.71653543307085, 10806.36150582173, 1491.5, 7, [0, 5.233333333333333]]\n",
      "[-3361.918854759325, -3183.9257778836973, 53.85826771653542, 10780.126499103542, 1342.3500000000004, 3, [10.466666666666667, 10.466666666666667]]\n",
      "[-3714.0139681431774, -3665.5486501927394, 53.85826771653542, 10772.273448692307, 745.7500000000005, 1, [10.466666666666667, 10.466666666666667]]\n",
      "[-4066.10908152703, -4147.1715225017815, 53.85826771653542, 10765.297267597707, 149.15000000000057, 0, [0, 5.233333333333333]]\n",
      "PAth [[-4200, -4200, 0, 0, 0, 0], [-4066.10908152703, -4147.1715225017815, 53.85826771653542, 10765.297267597707, 149.15000000000057, 0, [0, 5.233333333333333]], [-3714.0139681431774, -3665.5486501927394, 53.85826771653542, 10772.273448692307, 745.7500000000005, 1, [10.466666666666667, 10.466666666666667]], [-3361.918854759325, -3183.9257778836973, 53.85826771653542, 10780.126499103542, 1342.3500000000004, 3, [10.466666666666667, 10.466666666666667]], [-3325.5478607123882, -3044.6606462952313, 107.71653543307085, 10806.36150582173, 1491.5, 7, [0, 5.233333333333333]], [-3296.400408300181, -2613.8369459528362, 53.85826771653544, 10939.39516903415, 1938.9499999999998, 27, [10.466666666666667, 5.233333333333333]], [-2944.3052949163284, -2132.214073643794, 53.85826771653544, 10953.126981039486, 2535.5499999999997, 217, [10.466666666666667, 10.466666666666667]], [-2592.210181532476, -1650.5912013347508, 53.85826771653544, 10968.925761922852, 3132.1500000000005, 243, [10.466666666666667, 10.466666666666667]], [-2240.1150681486233, -1168.9683290257076, 53.85826771653544, 10987.287702154417, 3728.7500000000014, 279, [10.466666666666667, 10.466666666666667]], [-1888.0199547647715, -687.3454567166643, 53.85826771653544, 11008.878104566691, 4325.350000000002, 342, [10.466666666666667, 10.466666666666667]], [-1535.92484138092, -205.7225844076213, 53.85826771653544, 11034.6081284633, 4921.950000000003, 449, [10.466666666666667, 10.466666666666667]], [-1183.8297279970686, 275.9002879014217, 53.85826771653544, 11065.755962140232, 5518.550000000003, 591, [10.466666666666667, 10.466666666666667]], [-1147.4587339501318, 415.1654194898877, 107.71653543307085, 11107.242114000805, 5667.700000000003, 768, [0, 5.233333333333333]], [-1137.742916479396, 558.7733196040194, 53.85826771653544, 11170.697198552916, 5816.850000000002, 986, [5.233333333333333, 0]], [-785.6478030955445, 1040.3961919130627, 53.85826771653544, 11218.382638726267, 6413.450000000003, 1270, [10.466666666666667, 10.466666666666667]], [-663.9821289533826, 1117.3058130267334, 1.5910839524882818e-14, 11223.784773820284, 6562.600000000003, 1471, [5.233333333333333, 0]], [-530.0912104804132, 1170.134290524952, 53.85826771653544, 11230.369037381673, 6711.750000000003, 1493, [0, 5.233333333333333]], [-165.0941880539276, 1400.863153865964, 1.5910839524882818e-14, 11246.55179538863, 7159.200000000003, 1529, [10.466666666666667, 5.233333333333333]], [236.57856736498027, 1559.3485863606197, 53.85826771653544, 11266.599833944076, 7606.650000000002, 1612, [5.233333333333333, 10.466666666666667]], [358.24424150714214, 1636.2582074742904, 1.5910839524882818e-14, 11271.91478837456, 7755.800000000002, 1715, [5.233333333333333, 0]], [656.544241507142, 1636.2582074742904, 1.5910839524882818e-14, 11315.592696528607, 8054.100000000002, 1746, [5.233333333333333, 5.233333333333333]], [1253.1442415071417, 1636.2582074742904, 1.5910839524882818e-14, 11429.148264495088, 8650.700000000003, 2020, [10.466666666666667, 10.466666666666667]], [1849.7442415071414, 1636.2582074742904, 1.5910839524882818e-14, 11595.507407245383, 9247.300000000003, 2790, [10.466666666666667, 10.466666666666667]], [2251.4169969260493, 1794.7436399689461, 53.85826771653544, 11668.60179189587, 9694.750000000004, 3931, [5.233333333333333, 10.466666666666667]], [2373.0826710682113, 1871.6532610826168, 1.5910839524882818e-14, 11685.204688208829, 9843.900000000003, 4384, [5.233333333333333, 0]], [2774.755426487119, 2030.1386935772725, 53.85826771653544, 11797.155689835676, 10291.350000000004, 4474, [5.233333333333333, 10.466666666666667]], [3126.8505398709717, 2511.7615658863147, 53.85826771653544, 11817.23905266635, 10887.950000000004, 5337, [10.466666666666667, 10.466666666666667]], [3163.2215339179083, 2651.0266974747806, 107.71653543307085, 11822.60942062825, 11037.100000000004, 5553, [0, 5.233333333333333]], [3172.937351388644, 2794.634597588912, 53.85826771653544, 11832.798309742395, 11186.250000000004, 5626, [5.233333333333333, 0]], [3282.0503335294543, 3212.4299923543103, 107.71653543307085, 11855.273084079992, 11633.700000000004, 5744, [5.233333333333333, 10.466666666666667]], [3392.6524195161096, 3445.327615130529, 6.364335809953126e-15, 11977.919272994997, 11932.000000000005, 6017, [10.466666666666667, 0]]]\n"
     ]
    }
   ],
   "source": [
    "import numpy as np\n",
    "import matplotlib.pyplot as plt\n",
    "import copy\n",
    "import math\n",
    "import time\n",
    "\n",
    "#Variables\n",
    "Workspace = [10200,10200]\n",
    "CurrentNode = []\n",
    "UnvisitedNodes = []\n",
    "VisitedNodes = []\n",
    "CurrentIndex = 0\n",
    "StartNode = [-4200,-4200,0,0,0,0]\n",
    "GoalNode = [3400,3400]\n",
    "Radius = 354/2\n",
    "Clearance = 0\n",
    "Rpm1 = 50*3.14/30\n",
    "Rpm2 = 100*3.14/30\n",
    "#Function to get Radius, Clearance, Step-size and Theta values\n",
    "def GetParameters():\n",
    "    Clearance = int(input(\"Enter the Clearance of the robot: \"))\n",
    "    print(\"Enter the wheel RPM's separated by space: RPM1 RPM2\")\n",
    "    RPM = list(map(int, input().split()))\n",
    "    Radius = 354/2\n",
    "    return Clearance,RPM,Radius\n",
    "# print(GetParameters())\n",
    "#To check the given node is in Obstacle Space\n",
    "def InObstacleSpace(Node):\n",
    "    x = Node[0]\n",
    "    y = Node[1]\n",
    "\n",
    "    if(x**2 + y**2 <= (1000+Radius+Clearance)**2):\n",
    "        return True\n",
    "        Obstaclesx.append(x)\n",
    "        Obstaclesy.append(y)\n",
    "    elif((x+2000)**2 + (y+3000)**2 <= (1000+Radius+Clearance)**2):\n",
    "        return True\n",
    "        Obstaclesx.append(x)\n",
    "        Obstaclesy.append(y)\n",
    "    elif((x-2000)**2 + (y+3000)**2 <= (1000+Radius+Clearance)**2):\n",
    "        return True\n",
    "        Obstaclesx.append(x)\n",
    "        Obstaclesy.append(y)\n",
    "    elif((x-2000)**2 + (y-3000)**2 <= (1000+Radius+Clearance)**2):\n",
    "        return True\n",
    "        Obstaclesx.append(x)\n",
    "        Obstaclesy.append(y)\n",
    "    elif(((3750+Radius+Clearance)>=y>=(2250-Radius-Clearance)) and ((-2750-Radius-Clearance)<=x<=(-1250+Radius+Clearance))):\n",
    "        return True\n",
    "        Obstaclesx.append(x)\n",
    "        Obstaclesy.append(y)\n",
    "    elif(((750+Radius+Clearance)>=y>=(-750-Radius-Clearance)) and ((-4750-Radius-Clearance)<=x<=(-3250+Radius+Clearance))):\n",
    "        return True\n",
    "        Obstaclesx.append(x)\n",
    "        Obstaclesy.append(y)\n",
    "    elif(((750+Radius+Clearance)>=y>=(-750-Radius-Clearance)) and ((3250-Radius-Clearance)<=x<=(4750+Radius+Clearance))):\n",
    "        return True\n",
    "        Obstaclesx.append(x)\n",
    "        Obstaclesy.append(y)\n",
    "    elif((-5100)<=x<=(-5000+Radius+Clearance)):\n",
    "        return True\n",
    "        Obstaclesx.append(x)\n",
    "        Obstaclesy.append(y)\n",
    "    elif((5100)>=x>=(5000-Radius-Clearance)):\n",
    "        return True\n",
    "        Obstaclesx.append(x)\n",
    "        Obstaclesy.append(y)\n",
    "    elif((-5100)<=y<=(-5000+Radius+Clearance)):\n",
    "        return True\n",
    "        Obstaclesx.append(x)\n",
    "        Obstaclesy.append(y)\n",
    "    elif((5100)>=y>=(5000-Radius-Clearance)):\n",
    "        return True\n",
    "        Obstaclesx.append(x)\n",
    "        Obstaclesy.append(y)\n",
    "    # if(x**2 + y**2 <= 1000):\n",
    "    #     return True\n",
    "    #     Obstaclesx.append(x)\n",
    "    #     Obstaclesy.append(y)\n",
    "    # elif((x-3100)**2 + (y-2100) <= 1000):\n",
    "    #     return True\n",
    "    #     Obstaclesx.append(x)\n",
    "    #     Obstaclesy.append(y)\n",
    "    # elif((x-7100)**2 + (y-2100) <= 1000):\n",
    "    #     return True\n",
    "    #     Obstaclesx.append(x)\n",
    "    #     Obstaclesy.append(y)\n",
    "    # elif((x-7100)**2 + (y-8100) <= 1000):\n",
    "    #     return True\n",
    "    #     Obstaclesx.append(x)\n",
    "    #     Obstaclesy.append(y)\n",
    "    # # elif((x-3100)**2 + (y-2100) <= 1000):\n",
    "    # #     return True\n",
    "    # #     Obstaclesx.append(x)\n",
    "    # #     Obstaclesy.append(y)\n",
    "    # elif((8850>=y>=7350) and (3850>=x>=2350)):\n",
    "    #     return True\n",
    "    #     Obstaclesx.append(x)\n",
    "    #     Obstaclesy.append(y)\n",
    "    # elif((5850>=y>=4350) and (1850>=x>=350)):\n",
    "    #     return True\n",
    "    #     Obstaclesx.append(x)\n",
    "    #     Obstaclesy.append(y)\n",
    "    # elif((5850>=y>=4350) and (9850>=x>=8350)):\n",
    "    #     return True\n",
    "    #     Obstaclesx.append(x)\n",
    "    #     Obstaclesy.append(y)\n",
    "    #\n",
    "    #\n",
    "    # if(x**2 + y**2 <= 1000):\n",
    "    #     return True\n",
    "    #     Obstaclesx.append(x)\n",
    "    #     Obstaclesy.append(y)\n",
    "    # elif((x+2000)**2 + (y+3000) <= 1000):\n",
    "    #     return True\n",
    "    #     Obstaclesx.append(x)\n",
    "    #     Obstaclesy.append(y)\n",
    "    # elif((x-2000)**2 + (y+3000) <= 1000):\n",
    "    #     return True\n",
    "    #     Obstaclesx.append(x)\n",
    "    #     Obstaclesy.append(y)\n",
    "    # elif((x-2000)**2 + (y-3000) <= 1000):\n",
    "    #     return True\n",
    "    #     Obstaclesx.append(x)\n",
    "    #     Obstaclesy.append(y)\n",
    "    # elif((3750>=y>=2250) and (-2750>=x>=-1250)):\n",
    "    #     return True\n",
    "    #     Obstaclesx.append(x)\n",
    "    #     Obstaclesy.append(y)\n",
    "    # elif((750>=y>=-750) and (-4750>=x>=-3250)):\n",
    "    #     return True\n",
    "    #     Obstaclesx.append(x)\n",
    "    #     Obstaclesy.append(y)\n",
    "    # elif((750>=y>=-750) and (3250>=x>=4750)):\n",
    "    #     return True\n",
    "    #     Obstaclesx.append(x)\n",
    "    #     Obstaclesy.append(y)\n",
    "\n",
    "    # if ((y-(-1.2*x))>=(210 - Clearance - Radius) and (y-(1.2*x))>=(30 - Clearance - Radius) and (y-(-1.4*x))<=(290 + Clearance + Radius) and (y-(-2.6*x))>=(280 - Clearance - Radius) and y<=(185 + Clearance + Radius)):\n",
    "    #     return True\n",
    "    #     Obstaclesx.append(x)\n",
    "    #     Obstaclesy.append(y)\n",
    "    # elif ((y - (1.73)*x + 135 >= 0 - Clearance - Radius) and (y + (0.58)*x - 96.35  <= 0 + Clearance + Radius) and (y - (1.73)*x - 15.54 <= 0 + Clearance + Radius) and (y + (0.58)*x - 84.81 >= 0 - Clearance - Radius)):\n",
    "    #     return True\n",
    "    #     Obstaclesx.append(x)\n",
    "    #     Obstaclesy.append(y)\n",
    "    # elif((x-225)**2 + (y-150)**2 <= (25 + Clearance + Radius)**2):\n",
    "    #     return True\n",
    "    #     Obstaclesx.append(x)\n",
    "    #     Obstaclesy.append(y)\n",
    "    # elif(((x-150)**2/(40 + Clearance + Radius)**2 + (y-100)**2/(20 + Clearance + Radius)**2) <= 1):\n",
    "    #     return True\n",
    "    #     Obstaclesx.append(x)\n",
    "    #     Obstaclesy.append(y)\n",
    "    # elif ((y-(0.6*x))>=(-125 - Clearance - Radius) and (y-(-0.6*x))<=(175 + Clearance + Radius) and (y-(0.6*x))<=(-95 + Clearance + Radius) and (y-(-0.6*x))>=(145 - Clearance - Radius)):\n",
    "    #     return True\n",
    "    #     Obstaclesx.append(x)\n",
    "    #     Obstaclesy.append(y)\n",
    "    # elif((y-(13*x))<=(-140 + Clearance + Radius) and (y-(1*x))>=(100 - Clearance - Radius) and y <= (185 + Clearance + Radius) and (y-(1.4*x)>=(80 - Clearance - Radius))):\n",
    "    #     return True\n",
    "    #     Obstaclesx.append(x)\n",
    "    #     Obstaclesy.append(y)\n",
    "    # elif ((y <=  Clearance + Radius)):\n",
    "    #     return True\n",
    "    #     Obstaclesx.append(x)\n",
    "    #     Obstaclesy.append(y)\n",
    "    # elif ((x <= Clearance + Radius)):\n",
    "    #     return True\n",
    "    #     Obstaclesx.append(x)\n",
    "    #     Obstaclesy.append(y)\n",
    "    # elif ((x >= 300  - (Clearance + Radius)  )):\n",
    "    #     return True\n",
    "    #     Obstaclesx.append(x)\n",
    "    #     Obstaclesy.append(y)\n",
    "    # elif ((200 >= y >=  200 - (Clearance + Radius))):\n",
    "    #     return True\n",
    "    #     Obstaclesx.append(x)\n",
    "    #     Obstaclesy.append(y)\n",
    "    else:\n",
    "        return False\n",
    "\n",
    "# print(InObstacleSpace([-3075.39,-2904.24]))\n",
    "# while(1):\n",
    "#     None\n",
    "#Function to get the Start Position\n",
    "def GetStart():\n",
    "    global StartNode\n",
    "    while(True):\n",
    "        print(\"Enter the co-ordinates of starting point separated by space  (x,y,theta_s) --> x y theta_s:\")\n",
    "        StartNode = list(map(int, input().split()))\n",
    "        if(len(StartNode)==3 and not(InObstacleSpace(StartNode))):\n",
    "            # StartNode = [StartNode[0] + StepSize*(math.cos(math.radians(StartNode[2]))),StartNode[1] + StepSize*(math.sin(math.radians(StartNode[2]))),0,0,0,0]\n",
    "        # print(\"Start\",StartNode)\n",
    "            break\n",
    "        else:\n",
    "            print(\"Please provide valid starting point\")\n",
    "    return StartNode\n",
    "\n",
    "# StartNode = GetStart()\n",
    "#Function to get the Goal Position\n",
    "def GetGoal():\n",
    "    global GoalNode\n",
    "    while(True):\n",
    "        print(\"Enter the co-ordinates of goal point separated by space  (x,y) --> x y : \")\n",
    "        GoalNode = list(map(int, input().split()))\n",
    "        # StartNode = [GoalNode[0] + StepSize*(math.cos(math.radians(StartNode[2]))),GoalNode[1] + StepSize*(math.sin(math.radians(GoalNode[2]))),]\n",
    "        if len(GoalNode)==2 and not(InObstacleSpace(GoalNode)):\n",
    "            break\n",
    "        else:\n",
    "             print(\"Please provide valid goal point\")\n",
    "    return GoalNode\n",
    "# GoalNode = GetGoal()\n",
    "#Function to find the Euclidean Distance between two Points\n",
    "def EuclieanDistance(x2,y2,x1,y1):\n",
    "    return math.sqrt((x2-x1)**2  + (y2-y1)**2)\n",
    "\n",
    "\n",
    "\n",
    "\n",
    "#Function to Genrate map to plot the Obstacles\n",
    "def GenerateMap():\n",
    "    print(\"Entered GenerateMap\")\n",
    "    XAll = np.linspace(-5100, 5100, num=200)\n",
    "    YAll = np.linspace(-5100, 5100, num=200)\n",
    "    Obstaclesx,Obstaclesy = [],[]\n",
    "    for x in XAll:\n",
    "        for y in YAll:\n",
    "            if(x**2 + y**2 <= (1000+Radius+Clearance)**2):\n",
    "                # return True\n",
    "                Obstaclesx.append(x)\n",
    "                Obstaclesy.append(y)\n",
    "            elif((x+2000)**2 + (y+3000)**2 <= (1000+Radius+Clearance)**2):\n",
    "                # return True\n",
    "                Obstaclesx.append(x)\n",
    "                Obstaclesy.append(y)\n",
    "            elif((x-2000)**2 + (y+3000)**2 <= (1000+Radius+Clearance)**2):\n",
    "                # return True\n",
    "                Obstaclesx.append(x)\n",
    "                Obstaclesy.append(y)\n",
    "            elif((x-2000)**2 + (y-3000)**2 <= (1000+Radius+Clearance)**2):\n",
    "                # return True\n",
    "                Obstaclesx.append(x)\n",
    "                Obstaclesy.append(y)\n",
    "            elif(((3750+Radius+Clearance)>=y>=(2250-Radius-Clearance)) and ((-2750-Radius-Clearance)<=x<=(-1250+Radius+Clearance))):\n",
    "                # return True\n",
    "                Obstaclesx.append(x)\n",
    "                Obstaclesy.append(y)\n",
    "            elif(((750+Radius+Clearance)>=y>=(-750-Radius-Clearance)) and ((-4750-Radius-Clearance)<=x<=(-3250+Radius+Clearance))):\n",
    "                # return True\n",
    "                Obstaclesx.append(x)\n",
    "                Obstaclesy.append(y)\n",
    "            elif(((750+Radius+Clearance)>=y>=(-750-Radius-Clearance)) and ((3250-Radius-Clearance)<=x<=(4750+Radius+Clearance))):\n",
    "                # return True\n",
    "                Obstaclesx.append(x)\n",
    "                Obstaclesy.append(y)\n",
    "            elif((-5100)<=x<=(-5000+Radius+Clearance)):\n",
    "                Obstaclesx.append(x)\n",
    "                Obstaclesy.append(y)\n",
    "            elif((5100)>=x>=(5000-Radius-Clearance)):\n",
    "                Obstaclesx.append(x)\n",
    "                Obstaclesy.append(y)\n",
    "            elif((-5100)<=y<=(-5000+Radius+Clearance)):\n",
    "                Obstaclesx.append(x)\n",
    "                Obstaclesy.append(y)\n",
    "            elif((5100)>=y>=(5000-Radius-Clearance)):\n",
    "                Obstaclesx.append(x)\n",
    "                Obstaclesy.append(y)\n",
    "\n",
    "    print(\"Exitting GenerateMap\")\n",
    "    return Obstaclesx,Obstaclesy\n",
    "\n",
    "# Ox,Oy = GenerateMap()\n",
    "# plt.show()\n",
    "#Function to plot the Workspace\n",
    "def GenerateWorkspace(Obstaclesx,Obstaclesy):\n",
    "    plt.xlim(-5100,5100)\n",
    "    plt.ylim(-5100,5100)\n",
    "    plt.plot(StartNode[0], StartNode[1], \"gd\", markersize = '2')\n",
    "    plt.plot(GoalNode[0], GoalNode[1], \"gd\", markersize = '2')\n",
    "    plt.scatter(Obstaclesx,Obstaclesy,color = 'b')\n",
    "    plt.pause(0.001)\n",
    "# GenerateWorkspace(Ox,Oy)\n",
    "# plt.show()\n",
    "# NodeInfo = np.zeros(np.array((205,205,11)))  # Store visited Nodes\n",
    "\n",
    "NodeInfo = np.zeros(np.array((205,205)))  # Store visited Nodes\n",
    "#Function to check if the node is already visited\n",
    "def IsVisitedNode(Node):\n",
    "    global NodeInfo\n",
    "    # print(\"Temp1\",[round(Node[0]/50),round(Node[1]/50),round(Node[2]/36)])\n",
    "    # TempX = Node[0] % 50\n",
    "    # TempY = Node[1] % 50\n",
    "    # TempTheta = round((Node[2]/36),0)\n",
    "    # print(TempTheta)\n",
    "    # if(TempX < 25):\n",
    "    #     TempX = Node[0] - TempX\n",
    "    # else:\n",
    "    #     TempX = Node[0] + (50-TempX)\n",
    "    # if(TempY < 25):\n",
    "    #     TempY = Node[1] - TempY\n",
    "    # else:\n",
    "    #     TempY = Node[1] + (50-TempY)\n",
    "    # print(\"Temp\",[TempX,TempY,TempTheta])\n",
    "    # print([int(TempX/50),int(TempY/50),int(TempTheta)])\n",
    "    if(NodeInfo[int(Node[0]/50)][int(Node[1]/50)] == 1):\n",
    "    # if(NodeInfo[int(Node[0]/50)][int(Node[1]/50)][int(Node[2]/36)] == 1):\n",
    "    #     print(\"Duplicate\")\n",
    "        return True\n",
    "    else:\n",
    "        NodeInfo[int(Node[0]/50)][int(Node[1]/50)] = 1\n",
    "\n",
    "        # NodeInfo[int(Node[0]/50)][int(Node[1]/50)][int(Node[2]/36)] = 1\n",
    "        return False\n",
    "\n",
    "# print(IsVisitedNode([25.01,61,178]))\n",
    "# print(IsVisitedNode([25,74,-178]))\n",
    "# print(IsVisitedNode([]))\n",
    "plotX,plotY,plotX2,plotY2 = [],[],[],[]\n",
    "\n",
    "#Function to add the new node to unvisited list if it is not in obstacle space and is unvisited\n",
    "def AddNode(Node,px,py):\n",
    "    global CurrentNode\n",
    "    global UnvisitedNodes\n",
    "    global plotX,plotY,plotX2,plotY2\n",
    "    if not(InObstacleSpace(Node)) and  not(IsVisitedNode(Node)):\n",
    "        UnvisitedNodes.append(Node)\n",
    "        # plt.plot(px, py, color=\"r\")\n",
    "        plotX.append([px,py])\n",
    "        # plotY.append(py)\n",
    "        # plotX2.append( Node[0]-CurrentNode[0] )\n",
    "        # plotY2.append( Node[1]-CurrentNode[1] )\n",
    "        if(len(plotX)%100 == 0):\n",
    "            for i in plotX:\n",
    "                # print(\"Len\",len(i))\n",
    "                plt.plot(i[0], i[1], color=\"r\")\n",
    "                # ax.quiver(plotX, plotY, plotX2, plotY2,units='xy' ,scale=1)\n",
    "            plt.pause(0.0001)\n",
    "            plotX,plotY= [],[]\n",
    "        # ax.quiver(CurrentNode[0], CurrentNode[1], Node[0]-CurrentNode[0], Node[1]-CurrentNode[1],units='xy' ,scale=1)\n",
    "        # plt.pause(0.001)\n",
    "        if(EuclieanDistance(GoalNode[0],GoalNode[1],Node[0],Node[1]) <= 50):\n",
    "            # ax.quiver(CurrentNode[0], CurrentNode[1], Node[0]-CurrentNode[0], Node[1]-CurrentNode[1],units='xy' ,scale=1,color = 'r')\n",
    "            CurrentNode = Node\n",
    "            # ax.quiver(plotX, plotY, plotX2, plotY2,units='xy' ,scale=1)\n",
    "            # plt.pause(0.001)\n",
    "            # plotX,plotY,plotX2,plotY2 = [],[],[],[]\n",
    "            return True\n",
    "        else:\n",
    "            return False\n",
    "\n",
    "# AddNode([3.27,2.75,30,5.22,1])\n",
    "# AddNode([3.4,3.1,30,0,1])\n",
    "# print(UnvisitedNodes)\n",
    "fig, ax = plt.subplots()\n",
    "\n",
    "\n",
    "def GenerateNode(Node,action):\n",
    "    t=0\n",
    "    r=38\n",
    "    L=317.5\n",
    "    dt=0.3\n",
    "\n",
    "    Xn=Node[0]\n",
    "    Yn=Node[1]\n",
    "    Thetan = 3.14 * Node[2] / 180\n",
    "    Cost = 0\n",
    "# Xi, Yi,Thetai: Input point's coordinates\n",
    "# Xs, Ys: Start point coordinates for plot function\n",
    "# Xn, Yn, Thetan: End point coordintes\n",
    "    plotx = []\n",
    "    ploty = []\n",
    "    while t<1.5:\n",
    "        t = t + dt\n",
    "        Xs = Xn\n",
    "        Ys = Yn\n",
    "        Xn += 0.5*r * (action[0] + action[1]) * math.cos(Thetan) * dt\n",
    "        Yn += 0.5*r * (action[0] + action[1]) * math.sin(Thetan) * dt\n",
    "        Thetan += (r / L) * (action[1] - action[0]) * dt\n",
    "        Cost += EuclieanDistance(Xn,Yn,Xs,Ys)\n",
    "        if(InObstacleSpace([Xn,Yn])):\n",
    "            plotx = []\n",
    "            ploty = []\n",
    "            break\n",
    "        plotx.append([Xs,Xn])\n",
    "        ploty.append([Ys,Yn])\n",
    "        # plt.plot([Xs, Xn], [Ys, Yn], color=\"blue\")\n",
    "    # Cost1 = EuclieanDistance(Xn,Yn,Xi,Yi)\n",
    "    Thetan = 180 * (Thetan) / 3.14\n",
    "    CostToCome = Node[4] + Cost\n",
    "    NewCost = CostToCome + EuclieanDistance(Xn,Yn,GoalNode[0],GoalNode[1])\n",
    "    NewNode = [Xn,Yn,Thetan,NewCost,CostToCome,CurrentIndex,action]\n",
    "    # plt.pause(0.0001)\n",
    "    return NewNode,plotx,ploty\n",
    "\n",
    "actions=[[0,Rpm1],[Rpm1,0],[Rpm1,Rpm1],[0,Rpm2],[Rpm2,0],[Rpm2,Rpm2],[Rpm1,Rpm2],[Rpm2,Rpm1]]\n",
    "#Function to generate possible motions based on parameters\n",
    "def ActionMove(Node):\n",
    "    for action in actions:\n",
    "        NewNode,px,py = GenerateNode(Node,action)\n",
    "\n",
    "    # PossibleMoves = int(360/Theta)\n",
    "    #\n",
    "    # for i in range(PossibleMoves):\n",
    "    #     NewTheta = i*Theta\n",
    "    #     NewX = Node[0] + StepSize*(math.cos(math.radians(NewTheta)))\n",
    "    #     NewY = Node[1] + StepSize*(math.sin(math.radians(NewTheta)))\n",
    "    #\n",
    "    #     # CostToCome = Node[5] + EuclieanDistance(NewX,NewY,Node[0],Node[1])\n",
    "    #     CostToCome = Node[5] + 1\n",
    "    #     NewCost = CostToCome + EuclieanDistance(NewX,NewY,GoalNode[0],GoalNode[1])\n",
    "    #\n",
    "    #     # CostNode = CostToCome + EuclieanDistance(NewX,NewY,GoalNode[0],GoalNode[1])\n",
    "    #     # NewCost = CostNode\n",
    "    #     NewNode = [round(NewX,2),round(NewY,2),int(NewTheta),NewCost,CurrentIndex,CostToCome]\n",
    "    #     print(\"NewNode\",NewNode)\n",
    "        Goal = AddNode(NewNode,px,py)\n",
    "        if(Goal):\n",
    "            return True\n",
    "    else:\n",
    "        return False\n",
    "# x = ActionMove(StartNode)\n",
    "# print(\"UnvisitedNodes\",UnvisitedNodes)\n",
    "# plt.show()\n",
    "Path = []  #To store the path\n",
    "\n",
    "#Function to backtrack and plot path\n",
    "def BackTrack(Node):\n",
    "    global CurrentNode\n",
    "    Path.append(Node)\n",
    "    print(\"Path\",Path,CurrentNode)\n",
    "    while(Path[0][5] != 0):\n",
    "        print(VisitedNodes[Path[0][5]])\n",
    "        Path.insert(0,VisitedNodes[CurrentNode[5]])\n",
    "        # print(\"NewPAth\")\n",
    "        # ax.quiver(Path[0][0], Path[0][1], CurrentNode[0]-Path[0][0], CurrentNode[1]-Path[0][1],  units='xy' ,scale=1,color = 'r')\n",
    "        CurrentNode=Path[0]\n",
    "    Path.insert(0,VisitedNodes[0])\n",
    "    # ax.quiver(Path[0][0], Path[0][1], CurrentNode[0]-Path[0][0], CurrentNode[1]-Path[0][1],  units='xy' ,scale=1,color = 'r')\n",
    "    plt.pause(0.001)\n",
    "    return Path\n",
    "\n",
    "# plt.grid()\n",
    "# ax.set_aspect('equal')\n",
    "# plt.xlim(0,300)\n",
    "# plt.ylim(0,200)\n",
    "# plt.title('A-Star Algorithm',fontsize=10)\n",
    "Goal = False\n",
    "# Radius,Clearance,StepSize,Theta = GetParameters()\n",
    "X,Y = GenerateMap()\n",
    "# StartNode = GetStart()\n",
    "# GoalNode = GetGoal()\n",
    "GenerateWorkspace(X,Y)\n",
    "# StartTime = time.time()\n",
    "# # print(\"Length\",len(UnvisitedNodes), \"Unvisited\",UnvisitedNodes)\n",
    "CurrentNode = copy.deepcopy(StartNode)\n",
    "# # print(\"CurrentIndex\",CurrentIndex,\"Node\",CurrentNode)\n",
    "UnvisitedNodes.append(CurrentNode)\n",
    "while(1):\n",
    "#     # VisitedNodes.append(UnvisitedNodes.remove(CurrentNode))\n",
    "    VisitedNodes.append(UnvisitedNodes.pop(0))\n",
    "    Goal = ActionMove(CurrentNode)\n",
    "    # print(\"Lenght\",len(UnvisitedNodes))\n",
    "    UnvisitedNodes.sort(key = lambda x: x[3])\n",
    "    if(len(UnvisitedNodes)>4000):                                 #Removing Old nodes with higher cost to reduce the runtime\n",
    "        UnvisitedNodes = UnvisitedNodes[:3000]\n",
    "        print(\"Deleting\")\n",
    "    if(Goal):\n",
    "        print(\"Goal\",CurrentNode)\n",
    "        break\n",
    "    # elif(len(UnvisitedNodes) == 0):\n",
    "#         print(\" No SOlution\")\n",
    "#         break\n",
    "#\n",
    "    CurrentIndex += 1\n",
    "    CurrentNode = UnvisitedNodes[0]\n",
    "#\n",
    "# EndTime = time.time()\n",
    "if(Goal):\n",
    "    # print(\"Solved\" , EndTime - StartTime)\n",
    "    Path = BackTrack(CurrentNode)\n",
    "    print(\"PAth\",Path)\n",
    "#     EndTime = time.time()\n",
    "#     print(\"Solved\" , EndTime - StartTime)\n",
    "plt.show()\n",
    "plt.close()\n"
   ]
  },
  {
   "cell_type": "code",
   "execution_count": null,
   "metadata": {},
   "outputs": [],
   "source": []
  }
 ],
 "metadata": {
  "kernelspec": {
   "display_name": "Python 3",
   "language": "python",
   "name": "python3"
  },
  "language_info": {
   "codemirror_mode": {
    "name": "ipython",
    "version": 3
   },
   "file_extension": ".py",
   "mimetype": "text/x-python",
   "name": "python",
   "nbconvert_exporter": "python",
   "pygments_lexer": "ipython3",
   "version": "3.7.4"
  }
 },
 "nbformat": 4,
 "nbformat_minor": 2
}
